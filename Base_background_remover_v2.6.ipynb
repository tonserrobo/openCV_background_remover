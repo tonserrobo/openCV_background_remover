{
 "cells": [
  {
   "cell_type": "code",
   "execution_count": 5,
   "id": "eea5005f",
   "metadata": {},
   "outputs": [],
   "source": [
    "import cv2\n",
    "import numpy as np\n",
    "import sys"
   ]
  },
  {
   "cell_type": "code",
   "execution_count": 6,
   "id": "07f593b5",
   "metadata": {},
   "outputs": [],
   "source": [
    "def resize(dst,img):\n",
    "    width = img.shape[1]\n",
    "    height = img.shape[0]\n",
    "    dim = (width, height)\n",
    "    resized = cv2.resize(dst, dim, interpolation = cv2.INTER_AREA)\n",
    "    return resized"
   ]
  },
  {
   "cell_type": "code",
   "execution_count": 7,
   "id": "5923cb8f",
   "metadata": {},
   "outputs": [],
   "source": [
    "def genFrames():\n",
    "    #capture video\n",
    "    video = cv2.VideoCapture(0)\n",
    "    bg = cv2.imread('background_1.jpg')\n",
    "    success, ref_img = video.read()\n",
    "    flag = 0\n",
    "    #threshold vars\n",
    "    diff_threshold = 30\n",
    "    gray_threshold = 14\n",
    "\n",
    "    #capture frame\n",
    "    while(1):\n",
    "            success, img = video.read()\n",
    "            success2 = True\n",
    "            bg = resize(bg,ref_img)\n",
    "            if flag==0:\n",
    "                    ref_img = img\n",
    "\n",
    "            # create a mask\n",
    "            diff1=cv2.subtract(img,ref_img)\n",
    "            diff2=cv2.subtract(ref_img,img)\n",
    "            diff = diff1+diff2\n",
    "            diff[abs(diff)<diff_threshold]=0 ##what happens when we change this threshold (was 14) - 20 works well - 30 is better, try for 28\n",
    "            gray = cv2.cvtColor(diff.astype(np.uint8), cv2.COLOR_BGR2GRAY)\n",
    "            gray[np.abs(gray) < gray_threshold] = 0 #was 10 \n",
    "            fgmask = gray.astype(np.uint8)\n",
    "            fgmask[fgmask>0]=255\n",
    "\n",
    "            #invert the mask\n",
    "            fgmask_inv = cv2.bitwise_not(fgmask)\n",
    "\n",
    "            #use the masks to extract the relevant parts from FG and BG\n",
    "            fgimg = cv2.bitwise_and(img,img,mask = fgmask)\n",
    "            bgimg = cv2.bitwise_and(bg,bg,mask = fgmask_inv)\n",
    "\n",
    "            #combine both the BG and the FG images\n",
    "            dst = cv2.add(bgimg,fgimg)\n",
    "\n",
    "            #show images\n",
    "            cv2.imshow('Background Removal',dst)\n",
    "            key = cv2.waitKey(5) & 0xFF\n",
    "            if ord('q') == key:\n",
    "                    break\n",
    "            elif ord('d') == key:\n",
    "                    flag = 1\n",
    "                    print(\"Background Captured\")\n",
    "            elif ord('r') == key:\n",
    "                    flag = 0\n",
    "                    print(\"Ready to Capture new Background\")\n",
    "\n",
    "    video.release()\n",
    "    cv2.destroyAllWindows()\n",
    "\n",
    "    #return jpeg.tobytes()"
   ]
  },
  {
   "cell_type": "code",
   "execution_count": 8,
   "id": "fc947473",
   "metadata": {},
   "outputs": [],
   "source": [
    "genFrames()"
   ]
  },
  {
   "cell_type": "code",
   "execution_count": null,
   "id": "d21bf937",
   "metadata": {},
   "outputs": [],
   "source": []
  }
 ],
 "metadata": {
  "kernelspec": {
   "display_name": "Python 3 (ipykernel)",
   "language": "python",
   "name": "python3"
  },
  "language_info": {
   "codemirror_mode": {
    "name": "ipython",
    "version": 3
   },
   "file_extension": ".py",
   "mimetype": "text/x-python",
   "name": "python",
   "nbconvert_exporter": "python",
   "pygments_lexer": "ipython3",
   "version": "3.8.11"
  }
 },
 "nbformat": 4,
 "nbformat_minor": 5
}
